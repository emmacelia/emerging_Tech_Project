{
 "cells": [
  {
   "cell_type": "markdown",
   "metadata": {},
   "source": [
    "# Emerging Technology Tasks"
   ]
  },
  {
   "cell_type": "markdown",
   "metadata": {},
   "source": [
    "## Task 1"
   ]
  },
  {
   "cell_type": "markdown",
   "metadata": {},
   "source": [
    "### The Collatz Conjecture\n",
    "The collatz conjecture is one of the most famous problems in mathematics that remains unsolved. It is also known as the 3n+1 conjecture or the Ulam conjecture. It is a simple maths function that can be applied to positive integers. Although being easy to understand scientists have been unable to solve this problem. (1)\n",
    "#### Process\n",
    "The conjecture starts with a positive integer known as n. If N is even then it is divided by 2. If it is odd then multiply by 3 and add 1. Then steps 2 and 3 should be repeated. No matter what the starting positive interger is, the process will eventually reach 1. However nobody has been able to verify that the conjucture is true for all postive integers.  (1)"
   ]
  },
  {
   "cell_type": "markdown",
   "metadata": {},
   "source": [
    "### Task Definition\n",
    "The following code uses the Collatz conjecture to verify that the conjecture. It is used to verify that the conjecture is true for the first 10,000 positive integers. The code is commented to explain what each part does. "
   ]
  },
  {
   "cell_type": "code",
   "execution_count": 3,
   "metadata": {},
   "outputs": [],
   "source": [
    "def collatz_sequence(n):\n",
    "    collatz_numbers=list() \n",
    "    \n",
    "    # While n is not 1\n",
    "    while (n!=1) :\n",
    "        #append to the list\n",
    "        collatz_numbers.append(n) \n",
    "        # if n is even then divide by 2\n",
    "        if (n%2==0) :\n",
    "            n=n//2\n",
    "        #else it is odd then multiply by 3 and add 1\n",
    "        else:\n",
    "            n=(3*n)+1\n",
    "    # Append to the list \n",
    "    collatz_numbers.append(1)\n",
    "\n",
    "    # Get the length of the list \n",
    "    l=len(collatz_numbers)\n",
    "\n",
    "    # Print the length and sequence \n",
    "    print(\"The length of collatz sequence is\", l)\n",
    "    print(\"Sequence:\")\n",
    "    for i in range(0,l):\n",
    "      print(collatz_numbers[i])"
   ]
  },
  {
   "cell_type": "code",
   "execution_count": null,
   "metadata": {},
   "outputs": [],
   "source": [
    "# Runs the above function\n",
    "collatz_sequence(10000)"
   ]
  },
  {
   "cell_type": "markdown",
   "metadata": {},
   "source": [
    "## Task 2"
   ]
  },
  {
   "cell_type": "markdown",
   "metadata": {},
   "source": [
    "### Newtons Method \n",
    "Newtons method is a root finding algorithms that is used to produce better approximations to the roots of a real-valued function. (2)"
   ]
  },
  {
   "cell_type": "markdown",
   "metadata": {},
   "source": [
    "### Process\n",
    "The process of newtons method starts off my guessing a value for the square root. It then declares the number of iterations that the formula will have along with the number threshold. The number threshold is the difference between the guess and the actual value. \n",
    "\n",
    "Next, It loops through the iterations and calculates the square root using newtons formula. If the absolute difference is less than the threshold then it returns this estimate as accurate. Otherwise, it updates z0 with z1.\n"
   ]
  },
  {
   "cell_type": "markdown",
   "metadata": {},
   "source": [
    "### Task Definition \n",
    "The following code uses the Newtons method to calculate a square root. It uses the above process for executing newtons method. The code bellow is commented to explain what each section does. "
   ]
  },
  {
   "cell_type": "code",
   "execution_count": 8,
   "metadata": {},
   "outputs": [],
   "source": [
    "def sqrt(x):\n",
    "    # Initialize a guess for the square root \n",
    "    z0 = 9\n",
    "\n",
    "    # Sets the number of iterations \n",
    "    number_of_iterations = 10\n",
    "\n",
    "    # Sets the threshold of difference between guesses\n",
    "    number_threshold = 0.01\n",
    "\n",
    "    # Loops through the number of iterations \n",
    "    for _ in range(number_of_iterations):\n",
    "\n",
    "        # Calculation using Neutons formula\n",
    "        z1 = 0.5 * (z0 + x / z0)\n",
    "\n",
    "        #if the absolute difference is less than the threshold then it returns this estimate as accurate\n",
    "        if abs(z1 - z0) < number_threshold:\n",
    "                return z1\n",
    "        \n",
    "        # Otherwise it updates z0 with z1 and continues \n",
    "        z0 = z1"
   ]
  },
  {
   "cell_type": "code",
   "execution_count": 5,
   "metadata": {},
   "outputs": [],
   "source": [
    "# Declares a value for x\n",
    "x=70.7"
   ]
  },
  {
   "cell_type": "code",
   "execution_count": 6,
   "metadata": {},
   "outputs": [],
   "source": [
    "# Declares a variable to run the sqrt function and includes x as a parameter\n",
    "result_of_sqrt = sqrt(x)"
   ]
  },
  {
   "cell_type": "code",
   "execution_count": null,
   "metadata": {},
   "outputs": [],
   "source": [
    "# Prints the results\n",
    "print(f\"square root of {x} is {result_of_sqrt}\")"
   ]
  },
  {
   "cell_type": "markdown",
   "metadata": {},
   "source": [
    "## Task 3"
   ]
  },
  {
   "cell_type": "markdown",
   "metadata": {},
   "source": [
    "### Task definition \n",
    "If we consider all the functions that take 4 bit inputs and produce a single output. The following code selects one of the possible functions at random and prints out the inputs and outputs."
   ]
  },
  {
   "cell_type": "code",
   "execution_count": 18,
   "metadata": {},
   "outputs": [],
   "source": [
    "import random"
   ]
  },
  {
   "cell_type": "markdown",
   "metadata": {},
   "source": [
    "The following function creates a function that consists of 4 input bits. It does this by generating a list of 16 random values that are either 0 or 1. These values represent all the possible combinations. "
   ]
  },
  {
   "cell_type": "code",
   "execution_count": 57,
   "metadata": {},
   "outputs": [],
   "source": [
    "def generaterandfunct():\n",
    "    return [random.choice([0, 1]) \n",
    "            for _ in range(2**4)]"
   ]
  },
  {
   "cell_type": "markdown",
   "metadata": {},
   "source": [
    "The following function takes a boolean function as a parameter. The function calculates a decimal value that relates back to the binary input bits. This is necessary because the boolean function is mapped to a decimal index in the list It then retrieves the output of the binary function for the input combination. "
   ]
  },
  {
   "cell_type": "code",
   "execution_count": 58,
   "metadata": {},
   "outputs": [],
   "source": [
    "def evaluate(func, input_bits):\n",
    "    decimal_input = sum(bit * (2**i) \n",
    "                        for i, bit in enumerate(reversed(input_bits)))\n",
    "    out = func[decimal_input]\n",
    "    return out"
   ]
  },
  {
   "cell_type": "code",
   "execution_count": 62,
   "metadata": {},
   "outputs": [
    {
     "name": "stdout",
     "output_type": "stream",
     "text": [
      "Randomly selected function: [0, 0, 0, 1, 1, 1, 1, 0, 0, 1, 0, 1, 1, 1, 0, 0]\n"
     ]
    }
   ],
   "source": [
    "#prints out the randomly selected function\n",
    "print(\"Randomly selected function:\", generaterandfunct())"
   ]
  },
  {
   "cell_type": "code",
   "execution_count": 69,
   "metadata": {},
   "outputs": [],
   "source": [
    "# Assigns what the function returns to a variable\n",
    "function = generaterandfunct()"
   ]
  },
  {
   "cell_type": "markdown",
   "metadata": {},
   "source": [
    "The following for loop iterates over all the possible input combination of 4 bits. For each iteration, It coverts the decimal index to a 4-bit binary representation of it. It then calls the evaluate function to determine the output. "
   ]
  },
  {
   "cell_type": "code",
   "execution_count": null,
   "metadata": {},
   "outputs": [],
   "source": [
    "for i in range(2**4):\n",
    "    input_bits = [int(bit)\n",
    "                  for bit in format(i, '04b')]\n",
    "    output_bit = evaluate(function, input_bits)\n",
    "    print(f\"Input: {input_bits}, Output: {output}\")\n"
   ]
  },
  {
   "cell_type": "markdown",
   "metadata": {},
   "source": [
    "## Task 4"
   ]
  },
  {
   "cell_type": "markdown",
   "metadata": {},
   "source": [
    "## Task definiton\n",
    "The following code preforms matrix multiplication on two rectangular lists that contain floats. These lists are declared bellow as A and B."
   ]
  },
  {
   "cell_type": "code",
   "execution_count": 72,
   "metadata": {},
   "outputs": [],
   "source": [
    "A = [\n",
    "    [2.1, 4.2, 6.3, 8.4],\n",
    "    [10.5, 12.6, 14.7, 16.8]\n",
    "    ]\n",
    "\n",
    "B = [\n",
    "    [1.9, 3.1, 5.2, 7.3],\n",
    "    [9.4, 11.5, 13.6, 15.7]\n",
    "    ]"
   ]
  },
  {
   "cell_type": "markdown",
   "metadata": {},
   "source": [
    "Next a placeholder matrix is created so the results can be stored in it."
   ]
  },
  {
   "cell_type": "code",
   "execution_count": 73,
   "metadata": {},
   "outputs": [],
   "source": [
    "MultiplicationResult=[\n",
    "    [0,0,0,0],\n",
    "    [0,0,0,0]\n",
    "]"
   ]
  },
  {
   "cell_type": "markdown",
   "metadata": {},
   "source": [
    "The following code uses nested loops to preform matrix multiplication. "
   ]
  },
  {
   "cell_type": "code",
   "execution_count": 74,
   "metadata": {},
   "outputs": [],
   "source": [
    "# loops over rows of A\n",
    "for a in range(len(A)):\n",
    "    # loops over columns of B\n",
    "    for b in range(len(B[0])):\n",
    "       # loops over rows of B\n",
    "       for c in range(len(B)):\n",
    "           # Preforms matrix multiplication\n",
    "           MultiplicationResult[a][b] += A[a][c] * B[c][b]"
   ]
  },
  {
   "cell_type": "markdown",
   "metadata": {},
   "source": [
    "The for loop seen below displays the contents of the results. "
   ]
  },
  {
   "cell_type": "code",
   "execution_count": null,
   "metadata": {},
   "outputs": [],
   "source": [
    "for r in MultiplicationResult:\n",
    "    print(r)"
   ]
  },
  {
   "cell_type": "markdown",
   "metadata": {},
   "source": [
    "## References \n",
    "\n",
    "1) https://medium.com/illumination/the-collatz-conjecture-the-mathematical-problem-that-no-one-can-solve-9ab14a8be026\n",
    "\n",
    "2) https://en.wikipedia.org/wiki/Newton's_method\n",
    "\n"
   ]
  }
 ],
 "metadata": {
  "kernelspec": {
   "display_name": "base",
   "language": "python",
   "name": "python3"
  },
  "language_info": {
   "codemirror_mode": {
    "name": "ipython",
    "version": 3
   },
   "file_extension": ".py",
   "mimetype": "text/x-python",
   "name": "python",
   "nbconvert_exporter": "python",
   "pygments_lexer": "ipython3",
   "version": "3.11.5"
  },
  "orig_nbformat": 4
 },
 "nbformat": 4,
 "nbformat_minor": 2
}
