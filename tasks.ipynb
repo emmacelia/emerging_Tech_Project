{
 "cells": [
  {
   "cell_type": "markdown",
   "metadata": {},
   "source": [
    "# Emerging Technology Tasks"
   ]
  },
  {
   "cell_type": "markdown",
   "metadata": {},
   "source": [
    "## Task 1"
   ]
  },
  {
   "cell_type": "code",
   "execution_count": 39,
   "metadata": {},
   "outputs": [],
   "source": [
    "def collatz_sequence(n):\n",
    "    collatz_numbers=list() \n",
    "    \n",
    "    while (n!=1) :\n",
    "        collatz_numbers.append(n) \n",
    "        if (n%2==0) :\n",
    "            n=n//2\n",
    "        else:\n",
    "            n=(3*n)+1\n",
    "    collatz_numbers.append(1)\n",
    "    l=len(collatz_numbers)\n",
    "\n",
    "    print(\"The length of collatz sequence is\", l)\n",
    "    print(\"Sequence:\")\n",
    "    for i in range(0,l):\n",
    "      print(collatz_numbers[i])\n",
    "\n",
    "collatz_sequence(10000)"
   ]
  },
  {
   "cell_type": "markdown",
   "metadata": {},
   "source": [
    "## Task 2"
   ]
  },
  {
   "cell_type": "code",
   "execution_count": 40,
   "metadata": {},
   "outputs": [],
   "source": [
    "def sqrt(x):\n",
    "    z0 = 9\n",
    "    number_of_iterations = 10\n",
    "    number_threshold = 0.01\n",
    "\n",
    "    for _ in range(number_of_iterations):\n",
    "        z1 = 0.5 * (z0 + x / z0)\n",
    "\n",
    "        #abs returns absolute value of the arguement\n",
    "        if abs(z1 - z0) < number_threshold:\n",
    "                return z1\n",
    "        z0 = z1\n",
    "\n",
    "x=70.7\n",
    "result_of_sqrt = sqrt(x)\n",
    "print(f\"square root of {x} is {result_of_sqrt}\")"
   ]
  },
  {
   "cell_type": "markdown",
   "metadata": {},
   "source": [
    "## Task 3"
   ]
  },
  {
   "cell_type": "code",
   "execution_count": null,
   "metadata": {},
   "outputs": [],
   "source": [
    "import random\n",
    "\n",
    "randno = random.randint(0, 255)\n",
    "\n",
    "def determine():\n",
    "    for i in range(16):\n",
    "        input_bits = i\n",
    "        output_bits = (randno >> input_bits) & 1\n",
    "        print(f\"Input is: {input_bits:04b}, output is: {output_bits}\")\n",
    "\n",
    "determine()"
   ]
  },
  {
   "cell_type": "markdown",
   "metadata": {},
   "source": [
    "## Task 4"
   ]
  },
  {
   "cell_type": "code",
   "execution_count": 2,
   "metadata": {},
   "outputs": [],
   "source": [
    "A = [\n",
    "    [2.1, 4.2, 6.3, 8.4],\n",
    "    [10.5, 12.6, 14.7, 16.8]\n",
    "    ]\n",
    "\n",
    "B = [\n",
    "    [1.9, 3.1, 5.2, 7.3],\n",
    "    [9.4, 11.5, 13.6, 15.7]\n",
    "    ]"
   ]
  },
  {
   "cell_type": "code",
   "execution_count": 3,
   "metadata": {},
   "outputs": [],
   "source": [
    "MultiplicationResult=[\n",
    "    [0,0,0,0],\n",
    "    [0,0,0,0]\n",
    "]"
   ]
  },
  {
   "cell_type": "code",
   "execution_count": null,
   "metadata": {},
   "outputs": [],
   "source": [
    "for a in range(len(A)):\n",
    "    for b in range(len(B[0])):\n",
    "       for c in range(len(B)):\n",
    "           MultiplicationResult[a][b] += A[a][c] * B[c][b]\n",
    "\n",
    "for r in MultiplicationResult:\n",
    "    print(r)"
   ]
  }
 ],
 "metadata": {
  "kernelspec": {
   "display_name": "base",
   "language": "python",
   "name": "python3"
  },
  "language_info": {
   "codemirror_mode": {
    "name": "ipython",
    "version": 3
   },
   "file_extension": ".py",
   "mimetype": "text/x-python",
   "name": "python",
   "nbconvert_exporter": "python",
   "pygments_lexer": "ipython3",
   "version": "3.11.4"
  },
  "orig_nbformat": 4
 },
 "nbformat": 4,
 "nbformat_minor": 2
}
