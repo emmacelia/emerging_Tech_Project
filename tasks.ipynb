{
 "cells": [
  {
   "cell_type": "markdown",
   "metadata": {},
   "source": [
    "# Emerging Technology Tasks"
   ]
  },
  {
   "cell_type": "markdown",
   "metadata": {},
   "source": [
    "## Task 1"
   ]
  },
  {
   "cell_type": "code",
   "execution_count": 32,
   "metadata": {},
   "outputs": [
    {
     "name": "stdout",
     "output_type": "stream",
     "text": [
      "The length of collatz sequence is 30\n",
      "Sequence:\n",
      "10000\n",
      "5000\n",
      "2500\n",
      "1250\n",
      "625\n",
      "1876\n",
      "938\n",
      "469\n",
      "1408\n",
      "704\n",
      "352\n",
      "176\n",
      "88\n",
      "44\n",
      "22\n",
      "11\n",
      "34\n",
      "17\n",
      "52\n",
      "26\n",
      "13\n",
      "40\n",
      "20\n",
      "10\n",
      "5\n",
      "16\n",
      "8\n",
      "4\n",
      "2\n",
      "1\n"
     ]
    }
   ],
   "source": [
    "def collatz_sequence(n):\n",
    "    collatz_numbers=list() \n",
    "    \n",
    "    while (n!=1) :\n",
    "        collatz_numbers.append(n) \n",
    "        if (n%2==0) :\n",
    "            n=n//2\n",
    "        else:\n",
    "            n=(3*n)+1\n",
    "    collatz_numbers.append(1)\n",
    "    l=len(collatz_numbers)\n",
    "\n",
    "    print(\"The length of collatz sequence is\", l)\n",
    "    print(\"Sequence:\")\n",
    "    for i in range(0,l):\n",
    "      print(collatz_numbers[i])\n",
    "\n",
    "collatz_sequence(10000)"
   ]
  }
 ],
 "metadata": {
  "kernelspec": {
   "display_name": "base",
   "language": "python",
   "name": "python3"
  },
  "language_info": {
   "codemirror_mode": {
    "name": "ipython",
    "version": 3
   },
   "file_extension": ".py",
   "mimetype": "text/x-python",
   "name": "python",
   "nbconvert_exporter": "python",
   "pygments_lexer": "ipython3",
   "version": "3.11.4"
  },
  "orig_nbformat": 4
 },
 "nbformat": 4,
 "nbformat_minor": 2
}
