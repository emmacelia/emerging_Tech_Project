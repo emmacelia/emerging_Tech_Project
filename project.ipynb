{
 "cells": [
  {
   "cell_type": "markdown",
   "metadata": {},
   "source": [
    "# Deutsch's Algorithm"
   ]
  },
  {
   "cell_type": "markdown",
   "metadata": {},
   "source": [
    "## Introduction\n",
    "\n",
    "The Deutsch’s Algorithm was developed in the 80s and was considered one of the earliest quantum computing algorithms created. They are typically performed on quantum computers as the name suggests. Although an algorithm is quantum when it can be performed on a quantum computer. However, we give the term quantum algorithms to algorithms that have at least one step that is directly quantum. Typically, they use superposition and entanglement. \n",
    "\n",
    "## Quantum Computing Fundamentals\n",
    "Before I go into discussing superposition and entanglement, I need to talk about Classic versus Quantum computing.\n",
    "\n",
    "### Classic Computing\n",
    "In classic computing is another way of saying binary computing. It stores information as bit values 0 and 1. Processors today such as x86 support classical computing. Classical computing is used by large scale and multi-purpose computers. In terms of states, there are a finite number of states, 0 and 1. When calculations are complete, they are deterministic. This means that if you continually enter the same input, it will repeat the same output. When it comes to data processing, it is carried out by logic and in order of the sequence. When executing, a classical computer executes using a set of well defined, step-by-step instructions. These instruction mirror the process that a human would do. When it comes to preforming computations, it uses algorithms based on binary logic gates. There are many types of gates such as AND, OR and NOT gates. When it comes to dealing with errors, Classical computers rely on error codes that a specially designed for classical bits.\n",
    "\n",
    "### Quantum Computing\n",
    " In quantum computing, the basic unit of information is known as a qubit. It has a similar role to a bit, but its behavior is different as its based-on quantum properties. This is where superposition comes it, it sets the qubit apart from a classical bit. Quantum computers perform calculations by unitary transformations. It combines with superpositions which allows for bigger and more complex calculations to be performed. This makes quantum computing more efficient for complex calculations. Similar to classical computing, quantum computing use quantum gates which operates of qubits which can be used to manipulate their quantum state. Unfortunately, quantum computing are more susceptible to errors. This is primarily due to issues relating to the environmental interface such as quantum noise or decoherence. Quantum computing can preform more complex equations and problems of various domains. Although quantum computers are still in their early stages, they hold great promise for applications in fields such as cryptography and AI. Unfortunately large scale quantum computers are yet to be realized.\n",
    "\n",
    "### Superposition\n",
    "Superposition is a fundamental principle of quantum mechanics. It allows qubit's to exist through a superposition of states rather than two states like classical bits. If we have a quantum state that is in superposition, we can see it by the linear combination that consists of other quantum states.\n",
    "\n",
    "### Entanglement\n",
    "As you may think, Entanglement involves two qubit being connected. It's when a group of particles are entangled. We cannot find the independent state of a single particle. We can only get a description of the whole system. "
   ]
  },
  {
   "cell_type": "markdown",
   "metadata": {},
   "source": [
    "## What is the Deutsch-Jozsa Algorithm?\n",
    "To solve the Deutsch-Jozsa algorithm we must understand how to solve it. If we are given a quantum function that takes in an input that it made up of a series of bits. When it is processed, it creates an output bit. To determine whether the function is constant or balanced.  We know it's a constant function if it always produces the same output for all inputs. On the other side, if a function is balanced, it produces two different outputs for two potential inputs. "
   ]
  },
  {
   "cell_type": "markdown",
   "metadata": {},
   "source": [
    "## Why do we care?\n",
    "\n",
    "As the name suggests, The Deutsch-Jozsa algorithm was developed and solved by David Deutsch and Richard Jozsa in 1992. Although it may seem quite simple, it demonstrates the advantage of quantum computing over classic computers for this problem. This discovery broadened the field of quantum computing. There are many different important reasons why the Deutsch-Jozsa algorithm is significant, which I will discuss below. \n",
    "\n",
    "One of the reasons for its significance is in terms of Quantum Supremacy Demonstration. The Deutsch-Jozsa algorithm is one of the earliest demonstrations of this theory which outperforms when performing this problem. It is significant as it demonstrates the advantage of quantum computing over classical for this issue. \n",
    "\n",
    "The Deutsch-Jozsa Algorithm deals with a particular concept called the oracle problem. This is a fundamental concept when it comes to quantum computing. An oracle is an unexposed operation that is used as an input in another algorithm, it is also known as an abstract black box function. Learning how to use and understand this is crucial in designing quantum algorithms. \n",
    "\n",
    "Quantum parallelism is at the heart of quantum computing. It boils down to the ability of quantum systems that perform calculations simultaneously. This gives great quantum speed over classical computing. Deutsch-Jozsa uses the powerful side of this algorithm to run calculations simultaneously.  \n",
    "\n",
    "In terms of understanding, the Deutsch-Jozsa algorithm is relatively easy to understand for computer scientists. It is a valuable resource when it comes to teaching the key concepts of quantum computing. "
   ]
  },
  {
   "cell_type": "markdown",
   "metadata": {},
   "source": [
    "## Quantum Computational Model\n",
    "In this section i will discuss the quantum turing machine, quantum circuit model and compare them.\n",
    "### The quantum turing machine\n",
    "In 1936, a British mathematician called Alan M. Turing introduced a hypothetical computing device called the turing machine. It was originally conceived as a maths tool that could recognize undecidable propositions. This means it cannot be shown to be either true or false. Turning then showed that there can never be a one size fits all method to figure out if a method is undecidable. In the traditional sense, the turing machine is not a machine but a maths model that reduces logical structure of a computer to only the essentials. \n",
    "So how does it work?\n",
    "It performs by a sequence of steps and assumes only one of a finite list of internal states at any given moment. The turing machine has three main parts. Tape, Head and parts of the head that can remember instructions. When i say tape, I mean it more so as a extensible data storage that is used to model computations. \n",
    "The tape is divided into squares, these squares can either be empty or have a symbol. The head however is in charge and capable of performing various operations on the tape and can change its internal state whenever it wants. The machine decides what to do based on this state and whats in the square. You can only read the answer once the machine is done.\n"
   ]
  },
  {
   "cell_type": "markdown",
   "metadata": {},
   "source": [
    "## Application of Deutsch's Algorithm\n",
    "\n",
    "to-do"
   ]
  },
  {
   "cell_type": "markdown",
   "metadata": {},
   "source": [
    "## Quantum Circuit using Qiskit implimenting the Deutsch's algorithm\n",
    "\n",
    "to-do\n",
    "\n",
    "### Simulation of the circuit \n",
    "\n",
    "to-do"
   ]
  },
  {
   "cell_type": "markdown",
   "metadata": {},
   "source": [
    "## Limitations\n",
    "to-do"
   ]
  },
  {
   "cell_type": "markdown",
   "metadata": {},
   "source": [
    "## Conclusion\n",
    "to-do"
   ]
  },
  {
   "cell_type": "markdown",
   "metadata": {},
   "source": [
    "## References\n",
    "https://www.linkedin.com/pulse/quantum-computers-vs-classical-whats-difference-kevin-tatem/\n",
    "\n",
    "https://scienceexchange.caltech.edu/topics/quantum-science-explained/quantum-superposition"
   ]
  }
 ],
 "metadata": {
  "language_info": {
   "name": "python"
  },
  "orig_nbformat": 4
 },
 "nbformat": 4,
 "nbformat_minor": 2
}
