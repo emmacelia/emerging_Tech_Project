{
 "cells": [
  {
   "cell_type": "markdown",
   "metadata": {},
   "source": [
    "# Deutsch's Algorithm"
   ]
  },
  {
   "cell_type": "markdown",
   "metadata": {},
   "source": [
    "## Introduction\n",
    "\n",
    "The Deutsch’s Algorithm was developed in the 80s and was considered one of the earliest quantum computing algorithms created. They are typically performed on quantum computers as the name suggests. Although an algorithm is quantum when it can be performed on a quantum computer. However, we give the term quantum algorithms to algorithms that have at least one step that is directly quantum. Typically, they use superposition and entanglement. \n",
    "\n",
    "Before I go into discussing superposition and entanglement, I need to talk about qubits. In quantum computing, the basic unit of information is known as a qubit. It has a similar role to a bit, but its behavior is different as its based-on quantum properties. This is where superposition comes it, it sets the qubit apart from a classical bit.  \n",
    "\n",
    "### Superposition \n",
    "\n",
    "Superposition is a fundemental principle of quantum mechanics. If we have a quantum state that is in superposition, we can see it by the linear combination that consists of other quantum states. \n",
    "\n",
    "### Entanglement  \n",
    "\n",
    "As you may think, Entanglement involves two qubits being connected. It's when a group of particles are entangled. We cannot find the independent state of a single particle. We can only get a description of the whole system. "
   ]
  },
  {
   "cell_type": "markdown",
   "metadata": {},
   "source": [
    "## What is the Deutsch-Jozsa Algorithm?\n",
    "In order to solve Deutsch-Jozsa algorithm we must understand how to solve it. \n",
    "If we are given a quantum function that takes in an input that it made up of a series of bits. When it is processed, it creates an output bit. In order to determine whether the function is constant or balanced. \n",
    "We know its a constant function if it always produces the samer output for all inputs. On the other side, If a function is balanced, it produces two different outputs for two potential inputs."
   ]
  },
  {
   "cell_type": "markdown",
   "metadata": {},
   "source": [
    "## Why do we care?\n",
    "As the name suggests, The Deutsch-Jozsa algorithm was developed and solved by David Deutsch and Richard Jozsa in 1992. \n",
    "Although it may seem quite simple, It demonstrates the advantage of quantum computing over classic computers for this particular problem. This discovery broadened the field of quantum computing. There are many different important reasons why Deutsch-Jozsa algorithm is significant, which i will discuss below.\n",
    "\n",
    "### Quantum Supremacy Demonstration\n",
    "One of the reasons for its significance in terms of Quantum Supremacy Demonstration. Deutsch-Jozsa algorithm is one of the earliest demonstrations of this theory which outperforms when performing this problem. It is significant as it demonstrates the \n",
    "advantage of quantum computing over classical for this issue.\n",
    "\n",
    "### Oracle Problem\n",
    "Deutsch-Jozsa Algorithm deals with a paricular concept called the oracle problem. This is a fundemental concept when it comes to quantum computing. An oracle is an unexposed operation that is used as an input in another algorithm, it is also known as an abstract black box function. Learning how to use and understand this is crucial in designing quantum algorithms.\n",
    "\n",
    "### Quantum Parallelism \n",
    "Quantum parallelism is at the heart of quantum computing. It boils down to the ability of quantum systems that preform calculations simulaniously. This gives quantum great speed over classical computing. Deutsch-Jozsa uses the powerful side of this algorithm to run calculations simultaniously. \n",
    "\n",
    "### Understanding \n",
    "In terms of understand, the Deutsch-Jozsa algorithm is relatively easy to understand to computer scientists. It is a valuable resource when it comes to teaching the key concepts of quantum computing. "
   ]
  },
  {
   "cell_type": "markdown",
   "metadata": {},
   "source": [
    "## References \n",
    "\n",
    "https://www.classiq.io/insights/the-deutsch-jozsa-algorithm-explained#:~:text=What%20is%20the%20Deutsch%2DJozsa,values%20of%200%20or%201.\n",
    "\n",
    "https://www.quantum-inspire.com/kbase/what-is-a-quantum-algorithm/"
   ]
  }
 ],
 "metadata": {
  "language_info": {
   "name": "python"
  },
  "orig_nbformat": 4
 },
 "nbformat": 4,
 "nbformat_minor": 2
}
