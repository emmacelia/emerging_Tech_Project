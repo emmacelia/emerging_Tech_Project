{
 "cells": [
  {
   "cell_type": "markdown",
   "metadata": {},
   "source": [
    "# Deutsch's Algorithm"
   ]
  },
  {
   "cell_type": "markdown",
   "metadata": {},
   "source": [
    "## Introduction\n",
    "\n",
    "The 1980's was a groundbreaking time in the world of quantum computing which was especially highlighted by the the discovery of Deutsch's algorithm. Deutsch's algorithm is one of the earliest milestones in quantum computing which paved the way for future discoveries. However his discovery alone was not deterministic and has a probability of 50%.\n",
    "It was in 1992 when Deutsch's algorithm was highlighted with the production of the deterministic deutsch-jozsa algorithm. \n",
    " \n",
    "While it is possible to perform any algorithm on a quantum computer, The term quantum algorithms refers to algorithms that utilize quantum principles of quantum mechanics. This includes superposition and entanglement. While classical algorithms can be preformed on a quantum computer, the term quantum algorithm is used for algorithms that include some features of quantum computing. In this paper I will discuss the interesting world of Deutsch's algorithm and its role in the evolution of quantum computing.I will also demonstrate Deutsch algorithm and Deutsch-Jozsa algorithm using qiskit. Additionally i will discuss the limitations of Deutsch algorithm and Deutsch-Jozsa algorithm\n"
   ]
  },
  {
   "cell_type": "markdown",
   "metadata": {},
   "source": [
    "## Classic Computing\n",
    "In classic computing is another way of saying binary computing. It stores information as bit values 0 and 1. Processors today such as x86 support classical computing. Classical computing is used by large scale and multi-purpose computers. In terms of states, there are a finite number of states, 0 and 1. When calculations are complete, they are deterministic. This means that if you continually enter the same input, it will repeat the same output. When it comes to data processing, it is carried out by logic and in order of the sequence. When executing, a classical computer executes using a set of well defined, step-by-step instructions. These instruction mirror the process that a human would do. When it comes to preforming computations, it uses algorithms based on binary logic gates. There are many types of gates such as AND, OR and NOT gates. When it comes to dealing with errors, Classical computers rely on error codes that a specially designed for classical bits. (1)"
   ]
  },
  {
   "cell_type": "markdown",
   "metadata": {},
   "source": [
    "## Quantum Computing\n",
    " In quantum computing, the basic unit of information is known as a qubit. It has a similar role to a bit, but its behavior is different as its based-on quantum properties. In classical computing, information is encoded into bits. The value of each bit is either 0 or 1. However a Qubit is a two level quantum system. A qubits basis states are written as 0, 1 or a linear combination of both states. When it is measured, It can either be 0 or 1. This is where superposition comes it, it sets the qubit apart from a classical bit. Quantum computers perform calculations by unitary transformations. It combines with superpositions which allows for bigger and more complex calculations to be performed. This makes quantum computing more efficient for complex calculations. Similar to classical computing, quantum computing use quantum gates which operates of qubits which can be used to manipulate their quantum state. Unfortunately, quantum computing are more susceptible to errors.It is mainly due to issues such as environmental interface such as quantum noise or decoherence. Quantum computing can preform more complex equations and problems of various domains. Although quantum computers are still in their early stages, they hold great promise for applications in fields such as cryptography and AI. Unfortunately large scale quantum computers are yet to be realized. (1)\n",
    "\n",
    " \n",
    "### Superposition\n",
    "Superposition is a key principle of quantum mechanics. A good way of imagining superposition is to imagine throwing a rock in the water and the water reacts by waving around. Its a similar concept as objects like electrons have wavelike properties that combine and eventually are superposed but quantum waves are mathematical. It allows qubit's to exist through a superposition of states rather than two states like classical bits. If we have a quantum state that is in superposition, we can see it by the linear combination that consists of other quantum states. \n",
    "There are equations that are used to get the probability of an object existing in a given state. It may show us the probability of an electron moving at a certain speed. When an electron is in superposition, there are different states that can be seen or identified as separate outcomes. Each outcome has a particular probability of being observed. For example an electron may be in a superposition of two velocities in two different places at once. \n",
    "In terms of maths, a superposition is an equation that has more than one solution.\n",
    "In terms of traditional definitions of superposition, There was may quite strange but useful was of describing a superposition. One of them uses the analogy of a cat and was imagined by Erwin Schrödinger. He stated that if we place a cat in a sealed box for an hour with poison, It has an equal chance of killing or not killing the cat. At the end of the hour, the cat could be said to be both alive and dead until the box is opened. Then an observation will determine whether the cat is dead or alive. Once the measurement has been made however, The cat is either dead or alive. (2)\n",
    "\n",
    "### Entanglement\n",
    "As the name sounds, Entanglement occurs when a pair of photons or electrons become entangled and they will continue to remain connected even at a great distance.\n",
    " When it comes to studying entanglement, researchers create and entanglement and sent each particle off to different locations. \n",
    " A simple example includes if researchers want to measure the direction that a particle is spinning, We will find that if one particle spins up, the other will spin down. \n",
    " A key factor in researching entanglements was to view particles at different angles.\n",
    " This changed the outcome of experiments as there is no longer any hidden information buried inside a particle that determines its spin. (5)\n"
   ]
  },
  {
   "cell_type": "markdown",
   "metadata": {},
   "source": [
    "\n",
    "## Quantum Logic gates\n",
    " If we think in terms of computers being microscopic cities. We can imagine that quantum wires act as roads but instead of cars on the roads, its electricity through the quantum wires. In each metaphorical road there are many gates that are commonly known as logic gates that allow computers, both quantum and classical, to do their job. Electricity is either allowed to go through or is blocked. When electricity goes through the gate, it represents 1 as digital data and 0 as blocked. There are many kinds of logic gate such as AND gates.So why should we use circuits? By arranging gates in a circuit it allows engineers to create a similar thing to a flowchart. This allows computers to carry out many logical operations and perform tasks that computers can do. \n",
    "\n",
    " A research team that consisted of Monroe, Wineland and other colleagues conducted an experiment that controlled the energy levels in a single ion. They idealized that a lower energy state will be represented as 0. A higher energy state will be represented as 1. The first qubit is represented as the ions internal energy. They then created a second quantum bit that made the atoms external motion to 0 when there is less motion. Whereas 1 represented a greater amount of motion. They used entanglement to entangle the ions internal energy state with the ions overall motion. While doing these experiments, they made a quantum version of a controlled NOT gate. \n",
    " \n",
    " In the gate, the energy of motion servers at the control bit which cases the ion internal energy to change. \n",
    "\n",
    " The researchers could also have used laser's, this would make the ions internal energy go into a superposition state. However the gate itself, doesn't in fact process multiple possibilities. The superposition of states exists in the system itself. \n",
    "\n",
    " Unfortunately, The gate does not process many possibilities simultaneously. The qubits however can be in a superposition of states until it is measured. (6)\n",
    "\n",
    "\n",
    " \n"
   ]
  },
  {
   "cell_type": "code",
   "execution_count": 38,
   "metadata": {},
   "outputs": [],
   "source": [
    "from qiskit import QuantumCircuit, transpile\n",
    "from qiskit.providers.aer import AerSimulator"
   ]
  },
  {
   "cell_type": "code",
   "execution_count": 34,
   "metadata": {},
   "outputs": [],
   "source": [
    "#Creates a circuit with 2 qubits\n",
    "circuit = QuantumCircuit(2)"
   ]
  },
  {
   "cell_type": "code",
   "execution_count": 35,
   "metadata": {},
   "outputs": [
    {
     "data": {
      "text/plain": [
       "<qiskit.circuit.instructionset.InstructionSet at 0x1dce2a27f10>"
      ]
     },
     "execution_count": 35,
     "metadata": {},
     "output_type": "execute_result"
    }
   ],
   "source": [
    "#add gates to the circuit\n",
    "circuit.x(0)"
   ]
  },
  {
   "cell_type": "code",
   "execution_count": 36,
   "metadata": {},
   "outputs": [],
   "source": [
    "#add measurement to extract results\n",
    "circuit.measure_all()"
   ]
  },
  {
   "cell_type": "code",
   "execution_count": 39,
   "metadata": {},
   "outputs": [],
   "source": [
    "#Simulate the circuit \n",
    "simulate = AerSimulator()\n",
    "compile = transpile(circuit, simulate)\n",
    "result = simulate.run(compile).result()"
   ]
  },
  {
   "cell_type": "code",
   "execution_count": 40,
   "metadata": {},
   "outputs": [],
   "source": [
    "#counts the results\n",
    "counts = result.get_counts()"
   ]
  },
  {
   "cell_type": "code",
   "execution_count": null,
   "metadata": {},
   "outputs": [],
   "source": [
    "#print result\n",
    "print(counts)"
   ]
  },
  {
   "cell_type": "markdown",
   "metadata": {},
   "source": [
    "## Quantum Supremacy\n",
    "Quantum supremacy is an experiment to demonstrate that quantum computer are superior over classical computers. This is experimented by performing tasks that are previously known to be impossible at unmatched speeds. In order to confirm that quantum supremacy has been achieved, It must be shown that classical computers could never solve the problem that a quantum computers will be able to perform quickly. As quantum computers are still evolving and developing, They have not reached a point where they can show their advantage over classical computing. A factor in this is that it requires a high amount of quantum bits in order to perform complex or meaningful operations on quantum computers. The error rate is also a factor in proving quantum supremacy. The total number of logic gates increases as the amount of qubits increases. However so does the error rate which then causes the quantum computer to loose its advantage over classical computer. (8) Currently the largest quantum computer design is IBM's quantum computer named Osprey. "
   ]
  },
  {
   "cell_type": "markdown",
   "metadata": {},
   "source": [
    "## IBM Quantum Processors\n",
    "IBM announced that it intends to scale up its quantum computers by over 4000 qubits by 2025. In 2019, The company created a 27 qubit processor called falcon. A 65 qubits followed in 2020 called hummingbird. In 2021 a new processor called Eagle was released with 127 qubits. \n",
    "\n",
    "In 2022, IBM released its latest quantum processor called Osprey featuring 433 qubits. Currently the largest quantum computer design is Osprey which is the most powerful quantum computer in the world so far. They also gave out details of its Quantum System Two. This is IMB's quantum mainframe. It would accommodate multiple quantum processors and integrate them into a single system. They would be connected by high speed communication links. This would be a big building block of quantum-centric supercomputing.\n",
    "\n",
    "Based on the roadmap, This year (2023) IMB is set to release Condor which is the first quantum computer to contain over 1000 qubits. In 2024, IBM is also set to launch Heron which is the first of a flock of modular quantum processors. IMB says this will help them produce quantum computer with over 4000 qubits by 2025. (3)\n",
    "\n",
    "\n",
    "\n"
   ]
  },
  {
   "cell_type": "markdown",
   "metadata": {},
   "source": [
    "## The quantum turing machine\n",
    "In 1936, a British mathematician called Alan M. Turing introduced a hypothetical computing device called the turing machine. It was originally conceived as a maths tool that could recognize undecidable propositions. This means it cannot be shown to be either true or false. Turning then showed that there can never be a one size fits all method to figure out if a method is undecidable. In the traditional sense, the turing machine is not a machine but a maths model that reduces logical structure of a computer to only the essentials. \n",
    "So how does it work?\n",
    "It performs by a sequence of steps and assumes it is one of a set list of internal states at any chosen moment. The turing machine has three main parts. Tape, Head and parts of the head that can remember instructions. When i say tape, I mean it more so as a extensible data storage that is used to model computations. \n",
    "The tape is divided into squares, these squares can either be empty or have a symbol. The head however is in charge. It is capable of performing operations on the tape which can change its internal state whenever it wants. The machine decides what to do based on this state and whats in the square. You can only read the answer once the machine is done. (9)\n"
   ]
  },
  {
   "cell_type": "markdown",
   "metadata": {},
   "source": [
    "## Deutsch Algorithm\n",
    "In 1985, The Deutsch algorithm was discovered by, theoretical physicist, David Deutsch. It was the first algorithm known to demonstrate a quantum computers advantage over classical computers. If we are given a quantum function that takes in only one input bit, When it is process it will determine whether the function is constant or balanced. The key difference to the Deutsch algorithm is that it only contains one single classical bit. The function is considered to be constant if there is all input of the same value. For example returning all 0's or all 1's. \n",
    "On the other hand a function is considered to be balanced if there is 0 on half the inputs and 1 on the other half of inputs. (10)"
   ]
  },
  {
   "cell_type": "markdown",
   "metadata": {},
   "source": [
    "## Deutsch-Jozsa Algorithm\n",
    "The Deutsch-Jozsa however is a more generalized version of the original Deutsch algorithm but instead it can process and support any number of bits.\n",
    "If we are given a quantum function that takes in an input that it made up of a series of bits. When it is processed, it creates an output bit. The output bit tells us whether the function is considered to be constant or balanced. We know it's a constant function if it always produces the same output for all inputs. On the other side, if a function is balanced, it produces two different outputs for two potential inputs. (10)"
   ]
  },
  {
   "cell_type": "markdown",
   "metadata": {},
   "source": [
    "## Why do we care?\n",
    "\n",
    "As the name suggests, The Deutsch-Jozsa algorithm was developed and solved by David Deutsch and Richard Jozsa in 1992. Although it may seem quite simple, it demonstrates the advantage of quantum computing over classic computers for this problem. This discovery broadened the field of quantum computing. There are many different important reasons why the Deutsch-Jozsa algorithm is significant, which I will discuss below. (10)\n",
    "\n",
    "One of the reasons for its significance is in terms of Quantum Supremacy Demonstration. The Deutsch-Jozsa algorithm is one of the earliest demonstrations of this theory which outperforms when performing this problem. It is significant as it demonstrates the advantage of quantum computing over classical for this issue. \n",
    "\n",
    "The Deutsch-Jozsa Algorithm deals with a particular concept called the oracle problem. This is a fundamental concept when it comes to quantum computing. An oracle is an unexposed operation that is used as an input in another algorithm, it is also known as an abstract black box function. Learning how to use and understand this is crucial in designing quantum algorithms. (7)\n",
    "\n",
    "Quantum parallelism is at the heart of quantum computing. It boils down to the ability of quantum systems that perform calculations simultaneously. This gives great quantum speed over classical computing. Deutsch-Jozsa uses the powerful side of this algorithm to run calculations simultaneously.  \n",
    "\n",
    "In terms of understanding, the Deutsch and Deutsch-Jozsa algorithm is relatively easy to understand for computer scientists. It is a valuable resource when it comes to teaching the key concepts of quantum computing. "
   ]
  },
  {
   "attachments": {
    "image.png": {
     "image/png": "[encoded data removed]"
    }
   },
   "cell_type": "markdown",
   "metadata": {},
   "source": [
    "## Applications\n",
    "![image.png](attachment:image.png)\n",
    "\n",
    "In the above function, we are given a function of f. We must discuss the possible outcomes of this function. The function can either be constant or balanced. If a function is balanced, It means that f(x) is all the same for x, The value is constant. However if the function is balanced, Half of the input strings have the value of 0 and have of the input strings have the value of 1. \n",
    "### Classical approach\n",
    " The simple approach is that of a classical computer. The classical algorithm tries inputs and compares the outputs. Then if any two inputs give a different output, We can then decide that the function is balanced. If all the outputs are the same, the function is known to be constant. \n",
    " However we cannot be sure that a function is constant until N/2+1 unique outputs have been tried. To solve the Deutsch-jozsa problem classically, it will require between the best case scenario of 2 and the worst case scenario of N/2+1 queries. However a quantum computer implementing this algorithm can always answer this question in a single query. "
   ]
  },
  {
   "cell_type": "code",
   "execution_count": null,
   "metadata": {},
   "outputs": [],
   "source": [
    "def f(x):\n",
    "    return 2* x +3\n",
    "\n",
    "n = 10\n",
    "\n",
    "for x in range(1, n+1):\n",
    "    previous=f(x-1)\n",
    "\n",
    "    if(previous != f(x)):\n",
    "        print(\"This function is balanced\")\n",
    "        break\n",
    "\n",
    "    if(x== n/2):\n",
    "        print(\"This function is constant\")\n",
    "        break\n"
   ]
  },
  {
   "cell_type": "markdown",
   "metadata": {},
   "source": [
    "### Quantum Approach"
   ]
  },
  {
   "cell_type": "markdown",
   "metadata": {},
   "source": [
    "#### Deutsch algorithm approach"
   ]
  },
  {
   "cell_type": "markdown",
   "metadata": {},
   "source": [
    "#### Introduction\n",
    "Deutsch's algorithm solves a problems known as the parity problem, which is figuring out whether a function contains an even or odd number of terms. Deutsch algorithm solves this problem as it returns a function as being either balanced or constant which i have discussed already above. "
   ]
  },
  {
   "cell_type": "markdown",
   "metadata": {},
   "source": [
    "#### Implementation"
   ]
  },
  {
   "cell_type": "markdown",
   "metadata": {},
   "source": [
    "The first step is to define a quantum circuit to query one of a number of functions. It is essentially a way to prepare the inputs. "
   ]
  },
  {
   "cell_type": "code",
   "execution_count": 42,
   "metadata": {},
   "outputs": [],
   "source": [
    "from qiskit import QuantumCircuit"
   ]
  },
  {
   "cell_type": "markdown",
   "metadata": {},
   "source": [
    "The following code prepares the inputs for the quantum oracle. It is based on whether the function is balanced or constant. "
   ]
  },
  {
   "cell_type": "code",
   "execution_count": 43,
   "metadata": {},
   "outputs": [],
   "source": [
    "def PrepareInputs(case: int):\n",
    "    if case not in [1,2,3,4]:\n",
    "        raise ValueError(\"Not In range\")\n",
    "    \n",
    "    x=QuantumCircuit(2)\n",
    "\n",
    "    # if the case is 2/3 then a cnot gate is applied\n",
    "    if case in [2,3]:\n",
    "        x.cx(0,1)\n",
    "    #if the case is 3/4 then a not gate is applied\n",
    "    if case in [3,4]:\n",
    "        x.x(1)\n",
    "    return x"
   ]
  },
  {
   "cell_type": "code",
   "execution_count": null,
   "metadata": {},
   "outputs": [],
   "source": [
    "#Draw the Prepared inputs\n",
    "PrepareInputs(3).draw()"
   ]
  },
  {
   "cell_type": "markdown",
   "metadata": {},
   "source": [
    "The below function creates a quantum circuit for Deutsch algorithm. "
   ]
  },
  {
   "cell_type": "code",
   "execution_count": 46,
   "metadata": {},
   "outputs": [],
   "source": [
    "def Deutschcircuit(function: QuantumCircuit):\n",
    "    \n",
    "    #subtracts one from the number of last qubits\n",
    "    a = function.num_qubits - 1\n",
    "   \n",
    "    #Creates a quantum circuit with a+1 qubits and 1 classical bit\n",
    "    quancir = QuantumCircuit(a + 1, a)\n",
    "\n",
    "    #Apply a not gate\n",
    "    quancir.x(a)\n",
    "\n",
    "    #Apply a hadamard gate to all qubits\n",
    "    quancir.h(range(a+1))\n",
    "\n",
    "    quancir.barrier()\n",
    "\n",
    "    #Uses the compose function to compose the function circuit along with the current circuit\n",
    "    quancir.compose(function, inplace=True)\n",
    "    quancir.barrier()\n",
    "\n",
    "    #Apply a hadamard gate to first qubit\n",
    "    quancir.h(range(a))\n",
    "\n",
    "    #Measure and store the results \n",
    "    quancir.measure(range(a), range(a))\n",
    "\n",
    "    return quancir"
   ]
  },
  {
   "cell_type": "markdown",
   "metadata": {},
   "source": [
    "The below code plots out the circuit that is plotted in the Deutschcircuit function"
   ]
  },
  {
   "cell_type": "code",
   "execution_count": null,
   "metadata": {},
   "outputs": [],
   "source": [
    "Deutschcircuit(\n",
    "    PrepareInputs(3)\n",
    ").draw()"
   ]
  },
  {
   "cell_type": "markdown",
   "metadata": {},
   "source": [
    "An AerSimulator is a high-performance simulator that is used for quantum circuits. It allows for simulation of quantum circuits. "
   ]
  },
  {
   "cell_type": "code",
   "execution_count": 48,
   "metadata": {},
   "outputs": [],
   "source": [
    "from qiskit_aer import AerSimulator"
   ]
  },
  {
   "cell_type": "markdown",
   "metadata": {},
   "source": [
    "The below function simulates deutsch algorithm and determines whether the function is constant or balanced."
   ]
  },
  {
   "cell_type": "code",
   "execution_count": 49,
   "metadata": {},
   "outputs": [],
   "source": [
    "def simulateDeutschAlgorithm(function: QuantumCircuit):\n",
    "\n",
    "    #Prepares the quantum circuit\n",
    "    quancir = Deutschcircuit(function)\n",
    "\n",
    "    simulator = AerSimulator()\n",
    "\n",
    "    #Run the circuit on the simulator\n",
    "    result = simulator.run(quancir, shots=1, memory=True).result()\n",
    "\n",
    "    #get measure the results\n",
    "    measure = result.get_memory()\n",
    "\n",
    "    if measure[0]==\"0\":\n",
    "        return \"function is constant\"\n",
    "    return \"function is balanced\""
   ]
  },
  {
   "cell_type": "code",
   "execution_count": null,
   "metadata": {},
   "outputs": [],
   "source": [
    "b = PrepareInputs(3)\n",
    "display(b.draw())\n",
    "simulateDeutschAlgorithm(b)"
   ]
  },
  {
   "cell_type": "markdown",
   "metadata": {},
   "source": [
    "(4)"
   ]
  },
  {
   "cell_type": "markdown",
   "metadata": {},
   "source": [
    "#### Deutsch-Joza algorithm approach"
   ]
  },
  {
   "cell_type": "markdown",
   "metadata": {},
   "source": [
    "##### Introduction\n",
    "In this problem, Its input is in the form on __f:Σ n→Σ__ with the positive integer of n. If the output is O if it is constant and 1 if its balanced. We only care about 0 or 1 outputs. "
   ]
  },
  {
   "cell_type": "code",
   "execution_count": 51,
   "metadata": {},
   "outputs": [],
   "source": [
    "from qiskit import QuantumCircuit\n",
    "import numpy as np"
   ]
  },
  {
   "cell_type": "markdown",
   "metadata": {},
   "source": [
    "The following functions adds controlled NOT gates to the quantum circuit in order to preform quantum logical operations. "
   ]
  },
  {
   "cell_type": "code",
   "execution_count": 52,
   "metadata": {},
   "outputs": [],
   "source": [
    "def add(qc, bit_string):\n",
    "        for qubit, bit in enumerate(reversed(bit_string)):\n",
    "            if bit == \"1\":\n",
    "                qc.x(qubit)\n",
    "        return qc"
   ]
  },
  {
   "cell_type": "markdown",
   "metadata": {},
   "source": [
    "The createFunction generates a quantum circuit. It implements a query operation for a randomly selected function. There is a 50/50 chance for the function to be constant or balanced. "
   ]
  },
  {
   "cell_type": "code",
   "execution_count": 54,
   "metadata": {},
   "outputs": [],
   "source": [
    "def createFunction(numofbits):\n",
    "\n",
    "    #Initialize quantum circuit\n",
    "    quancir = QuantumCircuit(numofbits + 1)\n",
    "    \n",
    "    #50% chance, flip the output \n",
    "    if np.random.randint(0,2):\n",
    "        quancir.x(numofbits)\n",
    "      #50% chance, return the constant circuit\n",
    "    if np.random.randint(0,2):\n",
    "        return quancir\n",
    "    \n",
    "    #Choose random input states\n",
    "    inputstates = np.random.choice(\n",
    "        range(2**numofbits),\n",
    "        2**numofbits,#num of samples \n",
    "        replace=False,\n",
    "    )\n",
    "\n",
    "    # Add a controlled not gate to each state\n",
    "    for state in inputstates:\n",
    "        quancir.barrier()\n",
    "\n",
    "        #Add a controlled not gate to the quantum circuit\n",
    "        quancir= add(quancir, format(state, \"0b\"))\n",
    "\n",
    "        # Add a MCT gate\n",
    "        quancir.mct(list(range(numofbits)), numofbits)\n",
    "        quancir =  add(quancir, format(state, \"0b\"))\n",
    "    \n",
    "    quancir.barrier()\n",
    "\n",
    "    return quancir\n"
   ]
  },
  {
   "cell_type": "markdown",
   "metadata": {},
   "source": [
    "The following code is an implemented by choosing a random function, displaying the circuit and running the Deutsch-Jozsa algorithm"
   ]
  },
  {
   "cell_type": "code",
   "execution_count": null,
   "metadata": {},
   "outputs": [],
   "source": [
    "\n",
    "b = createFunction(3)\n",
    "display(b.draw())\n",
    "simulateDeutschAlgorithm(b)"
   ]
  },
  {
   "cell_type": "markdown",
   "metadata": {},
   "source": [
    "(4)"
   ]
  },
  {
   "cell_type": "markdown",
   "metadata": {},
   "source": [
    "## Limitations\n",
    "Deutsch-Jozsa and Deutsch algorithms both have limitations that makes them very impractical for use in real world applications. One such limitation is that the algorithm only works on promise problems. They can be defined as functions that are either constant or balanced. This is a big limitation as there are many other types of problems apart from promise problems that cant be solved by deutsch and deutsch-joza algorithm. The algorithms also do not give any insight into the complexity of the problem it solves, it only tells us that the function is constant or balanced. This then makes it difficult to understand the application and complexity of this algorithm. \n",
    "Even with the best quantum hardware, The algorithm may still suffer from the effects of quantum noise. This can greatly effect the accuracy of the algorithm and results. With the continuing work in the field of quantum computing, The future will most likely see a solution to these limitations."
   ]
  },
  {
   "cell_type": "markdown",
   "metadata": {},
   "source": [
    "## Conclusion\n",
    "Although Deutsch and Deutsch-Josza algorithm have their limitation, Deutsch and Deutsch-Josza was one of the first quantum algorithms that was significantly faster than the classical approach. As discussed in this paper, The algorithm takes a black box function as an input and produces either a 0 or 1 (balanced or constant) This algorithm solves the problem with one query to a black box function. A classical algorithm would need at least n/2 queries to solve it. This highlights a great advantage over classical algorithms."
   ]
  },
  {
   "cell_type": "markdown",
   "metadata": {},
   "source": [
    "## References\n",
    "1) https://www.linkedin.com/pulse/quantum-computers-vs-classical-whats-difference-kevin-tatem/\n",
    "\n",
    "2) https://scienceexchange.caltech.edu/topics/quantum-science-explained/quantum-superposition\n",
    "\n",
    "3) https://techcrunch.com/2022/11/09/ibm-unveils-its-433-qubit-osprey-quantum-computer/?guccounter=1&guce_referrer=aHR0cHM6Ly93d3cuZ29vZ2xlLmNvbS8&guce_referrer_sig=AQAAAHJ4QnQsxGn9Y5GljIeCQZF8EllLFRA1508Y96qXp2pL6aMvdVljc48KDhXAa2js496Ll9eR39hWzUvCEnChlF249bRMP3ym058SGi8agwutZ6QQNJ9iO-ZdROkJtyfbScaEV091KZa6fx6U4HlZkXyY8MiPedN4Gf8Vb2xF28gy\n",
    "\n",
    "4) https://learning.quantum.ibm.com/course/fundamentals-of-quantum-algorithms/quantum-query-algorithms#deutschs-algorithm\n",
    "\n",
    "5) https://scienceexchange.caltech.edu/topics/quantum-science-explained/entanglement\n",
    "\n",
    "6) https://www.geeksforgeeks.org/classical-not-logic-gates-with-quantum-circuit-using-qiskit-in-python/\n",
    "\n",
    "7) https://medium.com/@brcsomnath/qml-quantum-oracle-c8a48cdaf851#:~:text=Quantum%20Oracle%20is%20a%20black%20box%20used%20extensively%20in%20quantum,%2Ddimensional%20output%20f(x)\n",
    "\n",
    "8) https://www.techtarget.com/searchsecurity/definition/quantum-supremacy\n",
    "\n",
    "9) https://plato.stanford.edu/entries/turing-machine/#:~:text=Turing%20machines%2C%20first%20described%20by,the%20computing%20of%20real%20numbers.\n",
    "\n",
    "10) https://en.wikipedia.org/wiki/Deutsch%E2%80%93Jozsa_algorithm"
   ]
  }
 ],
 "metadata": {
  "kernelspec": {
   "display_name": "base",
   "language": "python",
   "name": "python3"
  },
  "language_info": {
   "codemirror_mode": {
    "name": "ipython",
    "version": 3
   },
   "file_extension": ".py",
   "mimetype": "text/x-python",
   "name": "python",
   "nbconvert_exporter": "python",
   "pygments_lexer": "ipython3",
   "version": "3.11.5"
  },
  "orig_nbformat": 4
 },
 "nbformat": 4,
 "nbformat_minor": 2
}
