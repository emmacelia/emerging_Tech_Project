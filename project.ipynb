{
 "cells": [
  {
   "cell_type": "markdown",
   "metadata": {},
   "source": [
    "# Deutsch's Algorithm"
   ]
  },
  {
   "cell_type": "markdown",
   "metadata": {},
   "source": [
    "## Introduction\n",
    "\n",
    "The Deutsches Algorith was developed in the 80s and was considered one of the earliest quantum computing algorithms created. Deutsch's Algorithm was designed to solve a very specific problem that is commonly known to computer scientists as the Deutsch problem.  To put in simple terms, this algorithm involves determining if a Boolean function is either a constant or balanced. It can be solved very efficiently using a quantum computer. "
   ]
  },
  {
   "cell_type": "markdown",
   "metadata": {},
   "source": [
    "## Example\n",
    "In order to solve Deutsch's algorithm we must understand how to solve it. If we are given a quantum function that takes in an input that it made up of a series of bits. When it is processed, it creates an output bit. In order to determine whether the function is constant or balanced. \n",
    "We know its a constant function if it always produces the samer output for all inputs. On the other side, If a function is balanced, it produces two different outputs for two potential inputs."
   ]
  },
  {
   "cell_type": "markdown",
   "metadata": {},
   "source": [
    "## References \n",
    "\n",
    "https://www.classiq.io/insights/the-deutsch-jozsa-algorithm-explained#:~:text=What%20is%20the%20Deutsch%2DJozsa,values%20of%200%20or%201."
   ]
  }
 ],
 "metadata": {
  "language_info": {
   "name": "python"
  },
  "orig_nbformat": 4
 },
 "nbformat": 4,
 "nbformat_minor": 2
}
