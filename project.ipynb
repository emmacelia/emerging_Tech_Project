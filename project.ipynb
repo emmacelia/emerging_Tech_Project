{
 "cells": [
  {
   "cell_type": "markdown",
   "metadata": {},
   "source": [
    "# Deutsch's Algorithm"
   ]
  },
  {
   "cell_type": "markdown",
   "metadata": {},
   "source": [
    "## Introduction\n",
    "\n",
    "The 1980's was a groundbreaking time in the world of quantum computing which was especially highlighted by the the discovery of Deutsch's algorithm. Deutsch's algorithm is one of the earliest milestones in quantum computing which paved the way for future discoveries. \n",
    "While it is possible to perform any algorithm on a quantum computer, The term quantum algorithms refers to algorithms that utilize quantum principles of quantum mechanics. This includes superposition and entanglement.\n",
    "In this paper I will discuss the interesting world of Deutsch's algorithm and its role in the evolution of quantum computing.\n"
   ]
  },
  {
   "cell_type": "markdown",
   "metadata": {},
   "source": [
    "## Classic Computing\n",
    "In classic computing is another way of saying binary computing. It stores information as bit values 0 and 1. Processors today such as x86 support classical computing. Classical computing is used by large scale and multi-purpose computers. In terms of states, there are a finite number of states, 0 and 1. When calculations are complete, they are deterministic. This means that if you continually enter the same input, it will repeat the same output. When it comes to data processing, it is carried out by logic and in order of the sequence. When executing, a classical computer executes using a set of well defined, step-by-step instructions. These instruction mirror the process that a human would do. When it comes to preforming computations, it uses algorithms based on binary logic gates. There are many types of gates such as AND, OR and NOT gates. When it comes to dealing with errors, Classical computers rely on error codes that a specially designed for classical bits."
   ]
  },
  {
   "cell_type": "markdown",
   "metadata": {},
   "source": [
    "## Quantum Computing\n",
    " In quantum computing, the basic unit of information is known as a qubit. It has a similar role to a bit, but its behavior is different as its based-on quantum properties. In classical computing, information is encoded into bits and each bit can have a value of either 0 or 1. However a Qubit is a two level quantum system. A qubits basis states are written as 0, 1 or a linear combination of both states. This is where superposition comes it, it sets the qubit apart from a classical bit. Quantum computers perform calculations by unitary transformations. It combines with superpositions which allows for bigger and more complex calculations to be performed. This makes quantum computing more efficient for complex calculations. Similar to classical computing, quantum computing use quantum gates which operates of qubits which can be used to manipulate their quantum state. Unfortunately, quantum computing are more susceptible to errors. This is primarily due to issues relating to the environmental interface such as quantum noise or decoherence. Quantum computing can preform more complex equations and problems of various domains. Although quantum computers are still in their early stages, they hold great promise for applications in fields such as cryptography and AI. Unfortunately large scale quantum computers are yet to be realized.\n",
    "\n",
    " \n",
    "### Superposition\n",
    "Superposition is a fundamental principle of quantum mechanics. A good way of imagining superposition is to imagine throwing a rock in the water and the water reacts by waving around. Its a similar concept as objects like electrons have wavelike properties that combine and eventually are superposed but quantum waves are mathematical. It allows qubit's to exist through a superposition of states rather than two states like classical bits. If we have a quantum state that is in superposition, we can see it by the linear combination that consists of other quantum states. \n",
    "There are equations that are used to get the probability of an object existing in a given state. It may show us the probability of an electron moving at a certain speed. When an electron is in superposition, there are different states that can be seen or identified as separate outcomes. Each outcome has a particular probability of being observed. For example an electron may be in a superposition of two velocities in two different places at once. \n",
    "In terms of maths, a superposition is an equation that has more than one solution.\n",
    "In terms of traditional definitions of superposition, There was may quite strange but useful was of describing a superposition. One of them uses the analogy of a cat and was imagined by Erwin Schrödinger. He stated that if we place a cat in a sealed box for an hour with poison, It has an equal chance of killing or not killing the cat. At the end of the hour, the cat could be said to be both alive and dead until the box is opened. Then an observation will determine whether the cat is dead or alive. \n",
    "\n",
    "\n",
    "### Entanglement\n",
    "As the name sounds, Entanglement occurs when a pair of photons or electrons become entangles and they will continue to remain connected even at a great distance. Scientists call this an emergent property. When it comes to studying entanglement, researchers create and entanglement and sent each particle off to different locations. A simple example includes if researchers want to measure the direction that a particle is spinning, We will find that if one particle spins up, the other will spin down. A key factor in researching entanglements was to view particles at different angles. This changed the outcome of experiments as there is no longer any hidden information buried inside a particle that determines its spin. \n"
   ]
  },
  {
   "cell_type": "markdown",
   "metadata": {},
   "source": [
    "\n",
    " ## Quantum Logic gates\n",
    " If we think in terms of computers being microscopic cities. We can imagine that quantum wires act as roads but instead of cars on the roads, its electricity through the quantum wires. In each metaphorical road there are many gates that are commonly known as logic gates that allow computers, both quantum and classical, to do their job. Electricity is either allowed to go through or is blocked. When electricity goes through the gate, it represents 1 as digital data and 0 as blocked. There are many kinds of logic gate such as AND gates.So why should we use circuits? By arranging gates in a circuit it allows engineers to create a similar thing to a flowchart. This allows computers to carry out many logical operations and perform tasks that computers can do. \n",
    "\n",
    " A research team that consisted of Monroe, Wineland and other colleagues conducted an experiment that controlled the energy levels in a single ion. They idealized that a lower energy state will be represented as 0. A higher energy state will be represented as 1. The first qubit is represented as the ions internal energy. They then created a second quantum bit that made the atoms external motion to 0 when there is less motion. Whereas 1 represented a greater amount of motion. They used entanglement to entangle the ions internal energy state with the ions overall motion. While doing these experiments, they made a quantum version of a controlled NOT gate. In the gate, the energy of motion servers at the control bit which cases the ion internal energy to change. \n",
    " The researchers could also have used lazer's, this would make the ions internal energy go into a superposition. This then allowed the gate to process many possibilities simultaneously, The gate can be considered to be both yes and no all at the same time. \n",
    "\n",
    " \n"
   ]
  },
  {
   "cell_type": "code",
   "execution_count": 40,
   "metadata": {},
   "outputs": [
    {
     "name": "stdout",
     "output_type": "stream",
     "text": [
      "{'01': 1024}\n"
     ]
    }
   ],
   "source": [
    "from qiskit import QuantumCircuit, transpile\n",
    "from qiskit.providers.aer import AerSimulator\n",
    "from qiskit.visualization import plot_histogram\n",
    "import matplotlib.pyplot as plt\n",
    "\n",
    "#Creates a circuit with 2 qubits\n",
    "circuit = QuantumCircuit(2)\n",
    "\n",
    "#add gates to the circuit\n",
    "circuit.x(0)\n",
    "\n",
    "\n",
    "#add measurement to extract results\n",
    "circuit.measure_all()\n",
    "\n",
    "#Simulate the circuit \n",
    "simulate = AerSimulator()\n",
    "compile = transpile(circuit, simulate)\n",
    "result = simulate.run(compile).result()\n",
    "\n",
    "counts = result.get_counts()\n",
    "\n",
    "#print result\n",
    "print(counts)\n",
    "\n"
   ]
  },
  {
   "cell_type": "markdown",
   "metadata": {},
   "source": [
    "## Quantum Supremacy\n",
    "Quantum supremacy is an experiment to demonstrate that quantum computer are superior over classical computers. This is experimented by performing tasks that are previously known to be impossible at unmatched speeds. In order to confirm that quantum supremacy has been achieved, It must be shown that classical computers could never solve the problem that a quantum computers will be able to perform quickly. As quantum computers are still evolving and developing, They have not reached a point where they can show their advantage over classical computing. A factor in this is that it requires a high amount of quantum bits in order to perform complex or meaningful operations on quantum computers. The error rate is also a factor in proving quantum supremacy. The total number of logic gates increases as the amount of qubits increases. However so does the error rate which then causes the quantum computer to loose its advantage over classical computer. Currently the largest quantum computer design is IBM's quantum computer named Osprey."
   ]
  },
  {
   "cell_type": "markdown",
   "metadata": {},
   "source": [
    "## IBM Quantum Processors\n",
    "IBM announced that it intends to scale up its quantum computers by over 4000 qubits by 2025. In 2019, The company created a 27 qubit processor called falcon. A 65 qubits followed in 2020 called hummingbird. In 2021 a new processor called Eagle was released with 127 qubits. \n",
    "\n",
    "In 2022, IBM released its latest quantum processor called Osprey featuring 433 qubits. Currently the largest quantum computer design is Osprey which is the most powerful quantum computer in the world so far. They also gave out details of its Quantum System Two. This is IMB's quantum mainframe.This would be able to house multiple quantum processors and integrate them into a single system. They would be connected by high speed communication links. This would be a big building block of quantum-centric supercomputing.\n",
    "\n",
    "Based on the roadmap, This year (2023) IMB is set to release Condor which is the first quantum computer to contain over 1000 qubits. In 2024, IBM is also set to launch Heron which is the first of a flock of modular quantum processors. IMB says this will help them produce quantum computer with over 4000 qubits by 2025.\n",
    "\n",
    "\n",
    "\n"
   ]
  },
  {
   "cell_type": "markdown",
   "metadata": {},
   "source": [
    "## The quantum turing machine\n",
    "In 1936, a British mathematician called Alan M. Turing introduced a hypothetical computing device called the turing machine. It was originally conceived as a maths tool that could recognize undecidable propositions. This means it cannot be shown to be either true or false. Turning then showed that there can never be a one size fits all method to figure out if a method is undecidable. In the traditional sense, the turing machine is not a machine but a maths model that reduces logical structure of a computer to only the essentials. \n",
    "So how does it work?\n",
    "It performs by a sequence of steps and assumes only one of a finite list of internal states at any given moment. The turing machine has three main parts. Tape, Head and parts of the head that can remember instructions. When i say tape, I mean it more so as a extensible data storage that is used to model computations. \n",
    "The tape is divided into squares, these squares can either be empty or have a symbol. The head however is in charge and capable of performing various operations on the tape and can change its internal state whenever it wants. The machine decides what to do based on this state and whats in the square. You can only read the answer once the machine is done.\n"
   ]
  },
  {
   "cell_type": "markdown",
   "metadata": {},
   "source": [
    "## What is the Deutsch-Jozsa Algorithm?\n",
    "To solve the Deutsch-Jozsa algorithm we must understand how to solve it. If we are given a quantum function that takes in an input that it made up of a series of bits. When it is processed, it creates an output bit. To determine whether the function is constant or balanced.  We know it's a constant function if it always produces the same output for all inputs. On the other side, if a function is balanced, it produces two different outputs for two potential inputs. "
   ]
  },
  {
   "cell_type": "markdown",
   "metadata": {},
   "source": [
    "## Why do we care?\n",
    "\n",
    "As the name suggests, The Deutsch-Jozsa algorithm was developed and solved by David Deutsch and Richard Jozsa in 1992. Although it may seem quite simple, it demonstrates the advantage of quantum computing over classic computers for this problem. This discovery broadened the field of quantum computing. There are many different important reasons why the Deutsch-Jozsa algorithm is significant, which I will discuss below. \n",
    "\n",
    "One of the reasons for its significance is in terms of Quantum Supremacy Demonstration. The Deutsch-Jozsa algorithm is one of the earliest demonstrations of this theory which outperforms when performing this problem. It is significant as it demonstrates the advantage of quantum computing over classical for this issue. \n",
    "\n",
    "The Deutsch-Jozsa Algorithm deals with a particular concept called the oracle problem. This is a fundamental concept when it comes to quantum computing. An oracle is an unexposed operation that is used as an input in another algorithm, it is also known as an abstract black box function. Learning how to use and understand this is crucial in designing quantum algorithms. \n",
    "\n",
    "Quantum parallelism is at the heart of quantum computing. It boils down to the ability of quantum systems that perform calculations simultaneously. This gives great quantum speed over classical computing. Deutsch-Jozsa uses the powerful side of this algorithm to run calculations simultaneously.  \n",
    "\n",
    "In terms of understanding, the Deutsch-Jozsa algorithm is relatively easy to understand for computer scientists. It is a valuable resource when it comes to teaching the key concepts of quantum computing. "
   ]
  },
  {
   "attachments": {
    "image.png": {
     "image/png": "[encoded data removed]"
    }
   },
   "cell_type": "markdown",
   "metadata": {},
   "source": [
    "## Application of Deutsch's Algorithm\n",
    "![image.png](attachment:image.png)\n",
    "\n",
    "In the above function, we are given a function of f. We must discuss the possible outcomes of this function. The function can either be constant or balanced. If a function is balanced, It means that f(x) is all the same for x, The value is constant. However if the function is balanced, Half of the input strings have the value of 0 and have of the input strings have the value of 1. \n",
    "### Classical approach\n",
    " The simple approach is that of a classical computer. The classical algorithm tries inputs and compares the outputs. Then if any two inputs give a different output, We can then decide that the function is balanced. If all the outputs are the same, the function is known to be constant. \n",
    " However we cannot be sure that a function is constant until N/2+1 unique outputs have been tried. To solve the Deutsch-jozsa problem classically, it will require between the best case scenario of 2 and the worst case scenario of N/2+1 queries. However a quantum computer implementing this algorithm can always answer this question in a single query. "
   ]
  },
  {
   "cell_type": "code",
   "execution_count": 45,
   "metadata": {},
   "outputs": [
    {
     "name": "stdout",
     "output_type": "stream",
     "text": [
      "This function is balanced\n"
     ]
    }
   ],
   "source": [
    "def f(x):\n",
    "    return 2* x +3\n",
    "\n",
    "n = 10\n",
    "\n",
    "for x in range(1, n+1):\n",
    "    previous=f(x-1)\n",
    "\n",
    "    if(previous != f(x)):\n",
    "        print(\"This function is balanced\")\n",
    "        break\n",
    "\n",
    "    if(x== n/2):\n",
    "        print(\"This function is constant\")\n",
    "        break\n"
   ]
  },
  {
   "cell_type": "markdown",
   "metadata": {},
   "source": [
    "## Quantum Circuit using Qiskit implimenting the Deutsch's algorithm\n",
    "\n",
    "to-do\n",
    "\n",
    "### Simulation of the circuit \n",
    "\n",
    "to-do"
   ]
  },
  {
   "cell_type": "markdown",
   "metadata": {},
   "source": [
    "## Limitations\n",
    "to-do"
   ]
  },
  {
   "cell_type": "markdown",
   "metadata": {},
   "source": [
    "## Conclusion\n",
    "to-do"
   ]
  },
  {
   "cell_type": "markdown",
   "metadata": {},
   "source": [
    "## References\n",
    "https://www.linkedin.com/pulse/quantum-computers-vs-classical-whats-difference-kevin-tatem/\n",
    "\n",
    "https://scienceexchange.caltech.edu/topics/quantum-science-explained/quantum-superposition\n",
    "\n",
    "https://techcrunch.com/2022/11/09/ibm-unveils-its-433-qubit-osprey-quantum-computer/?guccounter=1&guce_referrer=aHR0cHM6Ly93d3cuZ29vZ2xlLmNvbS8&guce_referrer_sig=AQAAAHJ4QnQsxGn9Y5GljIeCQZF8EllLFRA1508Y96qXp2pL6aMvdVljc48KDhXAa2js496Ll9eR39hWzUvCEnChlF249bRMP3ym058SGi8agwutZ6QQNJ9iO-ZdROkJtyfbScaEV091KZa6fx6U4HlZkXyY8MiPedN4Gf8Vb2xF28gy"
   ]
  }
 ],
 "metadata": {
  "kernelspec": {
   "display_name": "base",
   "language": "python",
   "name": "python3"
  },
  "language_info": {
   "codemirror_mode": {
    "name": "ipython",
    "version": 3
   },
   "file_extension": ".py",
   "mimetype": "text/x-python",
   "name": "python",
   "nbconvert_exporter": "python",
   "pygments_lexer": "ipython3",
   "version": "3.11.5"
  },
  "orig_nbformat": 4
 },
 "nbformat": 4,
 "nbformat_minor": 2
}
